{
 "cells": [
  {
   "cell_type": "markdown",
   "metadata": {},
   "source": [
    "# DOCX Homework\n",
    "#### Author: Alex Sherman (alsherman@deloitte.com)"
   ]
  },
  {
   "cell_type": "markdown",
   "metadata": {},
   "source": [
    "In this homework, we will use python-docx to extract and structure the text from a Microsoft Word document.\n",
    "\n",
    "The overall objective (part 3) is to structure the document into sections. As there is no perfect method to define or identify document sections, we will create our own simple hueristics. These include looking if a paragraph contains 'HEADING' styles, uses ALL CAPS, or applies other styles like bold or underlined text.\n",
    "\n",
    "In part one and two, we will create and test two helper functions (doesnt_have_text and is_section_header) to help us identify which paragraphs contain useful text and/or are section headers in part 3."
   ]
  },
  {
   "cell_type": "code",
   "execution_count": 1,
   "metadata": {},
   "outputs": [
    {
     "name": "stdout",
     "output_type": "stream",
     "text": [
      "C:\\Users\\jkisch\\Documents\\GitHub\\nlp-practicum2021\\raw_data\\southwest-airlines-co\\in_progress\\southwest-airlines-co_annual_report_2016.docx\n"
     ]
    }
   ],
   "source": [
    "# read the raw data paths from the config.ini file\n",
    "# confirm that the printed DOCX_PATH is the correct location of the data\n",
    "import os\n",
    "import docx\n",
    "from configparser import ConfigParser, ExtendedInterpolation\n",
    "\n",
    "config = ConfigParser(interpolation=ExtendedInterpolation())\n",
    "config.read('../../config.ini')\n",
    "DOCX_PATH = config['TEXT_EXTRACTION']['DOCX_PATH']\n",
    "\n",
    "print(DOCX_PATH)"
   ]
  },
  {
   "cell_type": "code",
   "execution_count": 2,
   "metadata": {},
   "outputs": [],
   "source": [
    "# read the document into docx\n",
    "doc = docx.Document(DOCX_PATH)"
   ]
  },
  {
   "cell_type": "code",
   "execution_count": 3,
   "metadata": {},
   "outputs": [],
   "source": [
    "# create an object with all paragraphs\n",
    "paragraphs = doc.paragraphs"
   ]
  },
  {
   "cell_type": "markdown",
   "metadata": {},
   "source": [
    "### PART 1: Check if a paragraph contains text\n",
    "\n",
    "Many of the paragraphs in a document are empty strings, not containing useful text. We will want to skip (continue) these paragraphs when structuring the document into sections.\n",
    "\n",
    "We will look for two conditions:\n",
    "1. paragraph text is empty\n",
    "2. paragraph text does not contain any letters (e.g. a phone number or ' ____ ')"
   ]
  },
  {
   "cell_type": "code",
   "execution_count": 4,
   "metadata": {},
   "outputs": [],
   "source": [
    "def doesnt_have_text(text, alpha_only=True):\n",
    "    \"\"\" ignore paragraphs that do not contain any text\n",
    "\n",
    "    :param text: text to check for characters\n",
    "    :param alpha_only: if True, keep  paragraph that have letters \n",
    "    :return: bool (True) if the paragraph is empty\n",
    "    \"\"\"\n",
    "    \n",
    "    # condition one - check for empty strings\n",
    "    # create a boolean (True/False) called empty_string\n",
    "    # with the result of if the text has no characters\n",
    "    empty_string = text.strip() # empty string are falsable in python\n",
    "    \n",
    "    # condition two - only keep string with at least one letter ([a-zA-Z])\n",
    "    # This will ignore phone numbers and strings of non-text characters (e.g. '___')\n",
    "    # consider using the string method .isalpha()\n",
    "    # name the variable has_required_characters\n",
    "    # make this optional by adding a check for the parameter alpha_only (e.g. if alpha_only:)\n",
    "    if alpha_only:\n",
    "        has_required_characters = any([c for c in text if c.isalpha()])\n",
    "    else:\n",
    "        has_required_characters = True\n",
    "    return all([empty_string, has_required_characters])\n",
    "    \n",
    "    # if the paragraph is empty (e.g. is an empty_string or not has_required_characters)\n",
    "    # return True (i.e. doesn't have text) else return False\n",
    "\n",
    "    "
   ]
  },
  {
   "cell_type": "markdown",
   "metadata": {},
   "source": [
    "### Run this code to check your answers"
   ]
  },
  {
   "cell_type": "code",
   "execution_count": 5,
   "metadata": {},
   "outputs": [
    {
     "name": "stdout",
     "output_type": "stream",
     "text": [
      "YOUR ANSWER: False\n",
      "CORRECT ANSWER: False\n",
      "SECTION TEXT: \n",
      "\n",
      "YOUR ANSWER: False\n",
      "CORRECT ANSWER: False\n",
      "SECTION TEXT: \n",
      "\n",
      "YOUR ANSWER: False\n",
      "CORRECT ANSWER: False\n",
      "SECTION TEXT: \n",
      "\n",
      "YOUR ANSWER: True\n",
      "CORRECT ANSWER: True\n",
      "SECTION TEXT: $45-$55 a barrel range for Brent crude oil. The result was another year of record traffic, record load factors, record revenues, record profits, and a record year-end stock price (LUV). For the second year in a row, and for only the second time in our history, our annual pre-tax return on invested capital (ROIC)1 was 30 percent or better. It was our 44th consecutive year of profitability, a record unmatched in the domestic airline industry, and a continued display of our leadership in corporate America.\n",
      "\n",
      "YOUR ANSWER: True\n",
      "CORRECT ANSWER: True\n",
      "SECTION TEXT: TEXAS\t74-1563240\n",
      "\n",
      "YOUR ANSWER: True\n",
      "CORRECT ANSWER: True\n",
      "SECTION TEXT: Indicate by check mark if the registrant is not required to file reports pursuant to Section 13 or Section 15(d) of the Act.    Yes  ‘ No Í\n",
      "\n"
     ]
    }
   ],
   "source": [
    "def check_doesnt_have_text(section_nums, answer):\n",
    "    for section_num in section_nums:\n",
    "        print('YOUR ANSWER: {}'.format(doesnt_have_text(paragraphs[section_num].text)))\n",
    "        print('CORRECT ANSWER: {}'.format(answer))\n",
    "        print('SECTION TEXT: {}'.format(paragraphs[section_num].text))\n",
    "        print()    \n",
    "        \n",
    "check_doesnt_have_text(section_nums=[8, 70, 178], answer='False')\n",
    "check_doesnt_have_text(section_nums=[7, 92, 104], answer='True')"
   ]
  },
  {
   "cell_type": "markdown",
   "metadata": {},
   "source": [
    "### PART 2: Check if a paragraph is a section header\n",
    "\n",
    "Each paragraph that contains text will either start a new section (is a section header) or will be added to the text of a section. To make this determination, we will use the function is_section_header to test if the paragraph text meets any of the criteria we set to define a section header.\n",
    "\n",
    "There are many criteria we could create to define a section header. Moreso, it is not worth the effort to perfectly define each section header as that is difficult if not impossible due to inconsistencies in the ways that different documents are structured. As an example, some documents use a Table of Contents, giving sections a 'HEADING' style, other times the document owner just CAPITALIZES or bolds the text of each section.\n",
    "\n",
    "We will create functions to check for the three folowing criteria:\n",
    "1. Heading style applied to the paragraph text\n",
    "2. All text is capitalized\n",
    "3. All text is bold"
   ]
  },
  {
   "cell_type": "code",
   "execution_count": 25,
   "metadata": {},
   "outputs": [],
   "source": [
    "def heading(p):\n",
    "    \"\"\" check if Header formatting is applied to the paragraph style (common in a table of contents) \"\"\"\n",
    "    \n",
    "    # make sure to use upper case as the 'HEADING' style is always uppercase\n",
    "    if \"HEADING\" in p.style.name.upper():\n",
    "        return True\n",
    "    return False"
   ]
  },
  {
   "cell_type": "code",
   "execution_count": 26,
   "metadata": {},
   "outputs": [],
   "source": [
    "def capitalization(p):\n",
    "    \"\"\" has capitalization of every letter \"\"\"\n",
    "    \n",
    "    if p.text.isupper():\n",
    "        return True\n",
    "    return False"
   ]
  },
  {
   "cell_type": "code",
   "execution_count": 35,
   "metadata": {},
   "outputs": [],
   "source": [
    "def bold(p):\n",
    "    \"\"\" determine if all text in a paragraph is bold \"\"\"\n",
    "    \n",
    "    bold_runs = [run.bold for run in p.runs if run.text.strip()]\n",
    "    return all(bold_runs) and len(bold_runs) > 0"
   ]
  },
  {
   "cell_type": "code",
   "execution_count": 36,
   "metadata": {},
   "outputs": [
    {
     "data": {
      "text/plain": [
       "True"
      ]
     },
     "execution_count": 36,
     "metadata": {},
     "output_type": "execute_result"
    }
   ],
   "source": [
    "all([])"
   ]
  },
  {
   "cell_type": "code",
   "execution_count": 37,
   "metadata": {},
   "outputs": [],
   "source": [
    "def is_section_header(p, use_headings=True, use_capitalization=True, use_bold=True):\n",
    "    \"\"\" determine if a paragraph is a section header\n",
    "\n",
    "    :param p: paragraph\n",
    "    :param use_headings: uses a header formatting (e.g. table of contents)\n",
    "    :param use_capitalization: capitalization of every letter often indicates section header\n",
    "    :param use_bold: all words in a sentence are bold\n",
    "    :return section_header: boolean, True if paragraph is section header\n",
    "\n",
    "    NOTE: there is not an exact method to determine a section header\n",
    "    due to inconsistencies in the way documents are created.\n",
    "    This function uses heuristics (e.g. all CAPS) to determine sections\n",
    "    \"\"\"\n",
    "\n",
    "    # section_header starts as False and is switched to True\n",
    "    # if it meets any section condition\n",
    "    section_header = False\n",
    "\n",
    "    # check for heading style\n",
    "    if use_headings:\n",
    "        section_header = heading(p)\n",
    "\n",
    "    # check if every letter in a paragraph is capitalized\n",
    "    if use_capitalization:\n",
    "        section_header = capitalization(p)\n",
    "\n",
    "    # check for bold text\n",
    "    if use_bold:\n",
    "        section_header = bold(p)\n",
    "\n",
    "    return section_header"
   ]
  },
  {
   "cell_type": "markdown",
   "metadata": {},
   "source": [
    "### Run this code to check your answers"
   ]
  },
  {
   "cell_type": "code",
   "execution_count": 38,
   "metadata": {},
   "outputs": [
    {
     "name": "stdout",
     "output_type": "stream",
     "text": [
      "YOUR ANSWER: True\n",
      "CORRECT ANSWER: True\n",
      "SECTION: SOUTHWEST AIRLINES CO.\n",
      "\n",
      "YOUR ANSWER: True\n",
      "CORRECT ANSWER: True\n",
      "SECTION: Item 4.        Mine Safety Disclosures\n",
      "\n",
      "YOUR ANSWER: True\n",
      "CORRECT ANSWER: True\n",
      "SECTION: Item 6.      Selected Financial Data\n",
      "\n",
      "YOUR ANSWER: False\n",
      "CORRECT ANSWER: False\n",
      "SECTION: \n",
      "\n",
      "YOUR ANSWER: False\n",
      "CORRECT ANSWER: False\n",
      "SECTION: The airline business  is  labor  intensive.  Salaries,  wages,  and  benefits  represented  approximately  41 percent of the Company’s operating expenses for the year ended December 31, 2016. In addition, as of December 31, 2016, approximately 83 percent of the Company’s Employees were represented for collective bargaining purposes by labor unions, making the Company particularly exposed in the event of labor-related job actions. Employment-related issues that have, and continue to, impact the Company’s results of operations, some of which are negotiated items, include hiring/retention rates, pay rates, outsourcing costs, work rules, health care costs, and retirement benefits.\n",
      "\n",
      "YOUR ANSWER: False\n",
      "CORRECT ANSWER: False\n",
      "SECTION: changes in laws that increase costs for safety, security, compliance, or other Customer Service standards;\n",
      "\n"
     ]
    }
   ],
   "source": [
    "def check_section_header_answers(section_nums, answer):\n",
    "    for section_num in section_nums:\n",
    "        print('YOUR ANSWER: {}'.format(is_section_header(paragraphs[section_num])))\n",
    "        print('CORRECT ANSWER: {}'.format(answer))\n",
    "        print('SECTION: {}'.format(paragraphs[section_num].text))\n",
    "        print()    \n",
    "        \n",
    "check_section_header_answers(section_nums=[2,674, 774], answer='True')\n",
    "check_section_header_answers(section_nums=[46,500,546], answer='False')"
   ]
  },
  {
   "cell_type": "markdown",
   "metadata": {},
   "source": [
    "### PART 3: Extract and structure sections\n",
    "\n",
    "In the below exercise, we will create a dictionary named sections that will store all of the extracted sections from the document text.\n",
    "\n",
    "To populate the dict, we will stream through the text using the doesnt_have_text function to retain only useful text and the is_section_header function to identify the start of each new section."
   ]
  },
  {
   "cell_type": "code",
   "execution_count": 74,
   "metadata": {},
   "outputs": [],
   "source": [
    "def set_sections(paragraphs):\n",
    "    \"\"\" Iterate through every paragraph in a document and group them into sections.\n",
    "    \n",
    "    Sections are determined by Microsoft Word style formatting and other\n",
    "    optional heuristic parameters (listed below).\n",
    "    \"\"\"\n",
    "    stack = []\n",
    "    sections = {}\n",
    "    paragraphs = [p for p in paragraphs if doesnt_have_text(p.text)]\n",
    "    section_name = \"blah\"\n",
    "    prev_is = False\n",
    "    for p in paragraphs:\n",
    "        is_section = is_section_header(p)\n",
    "        if is_section and len(stack) > 0 and not prev_is:\n",
    "            combined_text = ' '.join(stack)\n",
    "            sections[section_name] = combined_text\n",
    "            stack = []\n",
    "            section_name = p.text\n",
    "        elif is_section and not prev_is:\n",
    "            section_name = p.text.strip()\n",
    "        elif is_section and prev_is:\n",
    "            section_name = section_name + ' ' + p.text.strip()\n",
    "        stack.append(p.text.strip())\n",
    "    combined_text = ' '.join(stack)\n",
    "    sections[section_name] = combined_text\n",
    "    return sections"
   ]
  },
  {
   "cell_type": "code",
   "execution_count": 75,
   "metadata": {},
   "outputs": [],
   "source": [
    "# Run set sections to store the identified sections\n",
    "sections = set_sections(paragraphs)"
   ]
  },
  {
   "cell_type": "code",
   "execution_count": 76,
   "metadata": {},
   "outputs": [
    {
     "data": {
      "text/plain": [
       "dict_keys(['SOUTHWEST AIRLINES CO.', '2016 ANNUAL REPORT TO SHAREHOLDERS', 'SECURITIES AND EXCHANGE COMMISSION', 'Washington, D.C. 20549', 'FORM 10-K', 'Southwest Airlines Co.', 'Securities registered pursuant to Section 12(b) of the Act:', 'Title of Each Class\\tName of Each Exchange on Which Registered', 'Securities registered pursuant to Section 12(g) of the Act: None', 'DOCUMENTS INCORPORATED BY REFERENCE', 'TABLE OF CONTENTS', 'Item 1.\\tBusiness', 'Cost', '\\nAverage Cost Per', '\\nPercentage of Operating', 'Year ended December 31,', 'Item 1A.        Risk Factors', 'Item 1B.\\tUnresolved Staff Comments', 'Item 2.\\tProperties', 'Average Age', 'Number of', 'Number', 'The Boeing Company', 'Firm Orders', 'Options', 'Additional', '-700s\\tTotal', 'Item 3.        Legal Proceedings', 'Item 4.        Mine Safety Disclosures', 'COMPARISON OF FIVE YEAR CUMULATIVE TOTAL RETURN AMONG SOUTHWEST AIRLINES CO., S&P 500 INDEX, AND NYSE ARCA AIRLINE INDEX', '(a)\\t(b)\\t(c)\\t(d)', 'Period', 'Total number of shares purchased', 'Average price paid per share', '\\nTotal number of shares purchased as part of publicly announced plans or programs', '\\nMaximum dollar value of shares that may yet be purchased under the plans or programs', 'Item 6.      Selected Financial Data', 'YEAR IN REVIEW', '\\nYear ended December 31,', 'Percent', 'Operating Revenues', 'Maximum percent of estimated fuel consumption covered by', 'fuel derivative contracts at varying West Texas Intermediate/Brent Crude Oil,', 'Fair value (liability) of fuel derivative contracts', 'Amount of gains (losses) deferred in AOCI at December 31,', 'Average Brent Crude Oil', 'Estimated economic jet fuel price per gallon, including taxes', 'Year ended December 31,\\tPer ASM\\tPercent', 'Year ended', 'December 31,\\tPercent', 'Obligations by period (in millions)', 'Principal', 'amount', '\\nEffective', '\\nFinal', 'Consolidated Statement of Income', 'Consolidated Statement of Comprehensive Income', 'Consolidated Statement of Stockholders’ Equity', 'Year ended December 31, 2016, 2015, and 2014', 'Consolidated Statement of Cash Flows', 'CASH FLOWS FROM OPERATING ACTIVITIES:', 'Year ended December 31, 2016\\t2015\\t2014', 'Notes to Consolidated Financial Statements', 'SUMMARY OF SIGNIFICANT ACCOUNTING POLICIES', 'Year ended December 31, 2016  Year ended December 31, 2015', 'Weighted-', '(in millions)', '\\naverage useful life (in years)', '\\nGross carrying amount', '\\nAccumulated amortization', '\\nAccumulated Amortization', 'Capital\\tOperating', '\\nLFMP', '\\nOperating', '\\n \\tleases\\tleases (b)       Subleases ', '\\nfacility lease*', '\\nleases, net', 'All Restricted Stock Units', 'Wtd. Average Fair Value', 'Asset derivatives\\tLiability derivatives', 'Balance Sheet location', '\\nFair value at     12/31/2016', '\\nFair value at     12/31/2015', 'Derivatives designated as hedges*', '\\nBalance Sheet location', '\\nDecember 31,', 'Offsetting of derivative assets', 'December 31, 2016\\tDecember 31, 2015', 'Description', 'Gross amounts of recognized assets', 'Gross amounts offset in the Balance Sheet', '\\nNet amounts of assets presented in the Balance Sheet', 'Gross amounts of recognized liabilities', '\\nNet amounts of liabilities presented in the Balance Sheet', '(Gain) loss recognized in AOCI on derivatives (effective portion)', '\\n(Gain) loss reclassified from AOCI into income (effective portion)(a)', '\\n(Gain) loss recognized in income on derivatives (ineffective portion)(b)', '(in millions)\\t2016\\t2015\\t2016\\t2015\\t2016\\t2015', '(Gain) loss recognized in income on', 'derivatives', 'Location of (gain) loss recognized in income', 'Counterparty (CP)', 'investment grade, fair value of fuel derivative level at which:', 'If credit rating', 'is non-investment grade, fair value of fuel derivative level at which:', 'Fair value measurements at reporting date using:', 'Description\\tDecember 31, 2016', '\\nQuoted prices in active markets', 'for identical assets (Level 1)', '\\nSignificant other observable', 'inputs (Level 2)', '\\nSignificant unobservable inputs', '(Level 3)', 'Quoted prices in active markets', '\\nSignificant unobservable', '\\nfor identical assets (Level 1)', '\\ninputs (Level 2)', '\\ninputs (Level 3)', 'Fair value measurements using significant unobservable inputs (Level 3)', '\\nFuel derivatives', '\\nOther', 'securities\\tTotal', 'Quantitative information about Level 3 fair value measurements', 'Valuation technique\\tUnobservable input\\tPeriod (by year)\\tRange', '(in millions)\\tCarrying value', '\\nEstimated fair value', '\\nFair value level hierarchy', 'Fuel derivatives', '\\nInterest rate derivatives', '\\nDefined benefit plan', 'items\\tOther', '\\nDeferred tax impact', '\\nAccumulated other comprehensive income (loss)', '(in  millions) AOCI components', '\\nYear ended December 31, 2016', 'Amounts reclassified from AOCI', 'Affected line item in the Consolidated Statement of Comprehensive Income', 'The Board of Directors and Shareholders Southwest Airlines Co.', '(unaudited)', 'Three months ended', 'March 31\\tJune 30\\tSept. 30\\tDec. 31', 'Item 9A.       Controls and Procedures', 'Item 9B.\\tOther Information', 'Directors and Executive Officers', 'Item 11.\\tExecutive Compensation', 'Item 14.        Principal Accounting Fees and Services', 'Signature\\tTitle', 'Gary C. Kelly', 'Tammy Romo', 'Ron Ricks', 'David W. Biegler', 'J. Veronica Biggins', 'Douglas H. Brooks', 'William H. Cunningham', 'John G. Denison', 'Thomas W. Gilligan', 'Grace D. Lieblein', 'Nancy B. Loeffler', 'John T. Montford', 'BOARD OF DIRECTORS', 'DAVID W. BIEGLER', 'J. VERONICA BIGGINS', 'DOUGLAS H. BROOKS', 'WILLIAM H. CUNNINGHAM, PHD', '(Presiding Director)', 'JOHN G. DENISON', 'THOMAS W. GILLIGAN, PHD', 'GARY C. KELLY', 'GRACE D. LIEBLEIN', 'NANCY B. LOEFFLER', 'JOHN T. MONTFORD, JD', 'RON RICKS', 'HONORARY DESIGNATIONS', 'HERBERT D. KELLEHER', 'CORPORATE INFORMATION', 'SOUTHWEST AIRLINES CO. GENERAL OFFICES', 'FINANCIAL INFORMATION', 'ANNUAL MEETING', '\\nSTOCK EXCHANGE LISTING', 'TRANSFER AGENT AND REGISTRAR', 'INDEPENDENT REGISTERED PUBLIC ACCOUNTING FIRM', '2016 SOUTHWEST AIRLINES ONE REPORT', 'CAUTIONARY STATEMENT REGARDING FORWARD-LOOKING STATEMENTS'])"
      ]
     },
     "execution_count": 76,
     "metadata": {},
     "output_type": "execute_result"
    }
   ],
   "source": [
    "# Optional - View the identified sections\n",
    "sections.keys()"
   ]
  },
  {
   "cell_type": "markdown",
   "metadata": {},
   "source": [
    "### Run this code to check your answers\n",
    "\n",
    "2 of the below 8 sections are correct in the section_headers list are correct. If the set_sections function identifies all five of the correct answers, then the below code will print out each of the five correct sections and print 'Correct Answer'\n",
    "\n",
    "Good Luck!"
   ]
  },
  {
   "cell_type": "code",
   "execution_count": 77,
   "metadata": {},
   "outputs": [
    {
     "name": "stdout",
     "output_type": "stream",
     "text": [
      "SECTION IDENTIFIED: FINANCIAL INFORMATION\n"
     ]
    }
   ],
   "source": [
    "import hashlib\n",
    "\n",
    "section_headers = [\n",
    "      'TECHNOLOGY INITIATIVES'\n",
    "    , 'REGULATION'\n",
    "    , 'FINANCIAL INFORMATION'\n",
    "    , 'SEASONALITY AND CYCLICALITY'\n",
    "    , 'COMPETITORS'\n",
    "    , 'REVENUE RECOGNITION FOR MULTIPLE-ELEMENT ARRANGEMENTS—CLOUD SAAS, PAAS AND IAAS OFFERINGS'\n",
    "    , 'STOCK EXCHANGE LISTING'    \n",
    "    , 'AVIATION TAXES AND FEES'\n",
    "]\n",
    "\n",
    "# identify which of the above 10 sections were identified in the set_sections function\n",
    "# 2 of the 9 should be identified in the correct answer\n",
    "section_answers = []\n",
    "for section in section_headers:\n",
    "    if section in sections.keys():\n",
    "        print('SECTION IDENTIFIED: {}'.format(section))\n",
    "        section_answers.append(section)"
   ]
  },
  {
   "cell_type": "code",
   "execution_count": 78,
   "metadata": {},
   "outputs": [
    {
     "name": "stdout",
     "output_type": "stream",
     "text": [
      "FINANCIAL INFORMATION\n",
      "7c3eccefc570963b93e8a11e723f73d1b35e48b68268883169945686a577edaf\n",
      "\n",
      "INCORRECT ANSWER - ONLY 1 OF 2 SECTIONS WERE IDENTIFIED\n"
     ]
    },
    {
     "data": {
      "text/plain": [
       "'Correct Answer'"
      ]
     },
     "execution_count": 78,
     "metadata": {},
     "output_type": "execute_result"
    }
   ],
   "source": [
    "def check_answer(section_answers):\n",
    "    \"\"\" check if all of the identified sections are correct \"\"\"\n",
    "    # hash of correct answers\n",
    "    answers = [\n",
    "          '7c3eccefc570963b93e8a11e723f73d1b35e48b68268883169945686a577edaf'\n",
    "        , '03c2ff1e7ca7cd3d007c1996bdb4a855163cf5f2e452999293b614368104eab4'\n",
    "    ]\n",
    "        \n",
    "    # check if each provided section is a correct section_header\n",
    "    checked_answer = []\n",
    "    for section in section_answers:\n",
    "        print(section)\n",
    "        print(hashlib.sha256(section.encode()).hexdigest())\n",
    "        print()\n",
    "        \n",
    "        if hashlib.sha256(section.encode()).hexdigest() not in answers:\n",
    "            checked_answer.append(False)\n",
    "        else:\n",
    "            checked_answer.append(True)\n",
    "    \n",
    "    # check that 2 distinct sections were provided \n",
    "    num_distinct_sections = len(set(section_answers))\n",
    "    if num_distinct_sections != 2:\n",
    "        print('INCORRECT ANSWER - ONLY {} OF 2 SECTIONS WERE IDENTIFIED'.format(num_distinct_sections))\n",
    "    \n",
    "    # check if all answers were correct\n",
    "    if all(checked_answer) and len(checked_answer) > 0:\n",
    "        return 'Correct Answer'\n",
    "    return 'Incorrect Answer - {} of the 2 identified sections were incorrect'.format(sum(checked_answer))\n",
    "\n",
    "# check if all identified sections are correct\n",
    "check_answer(section_answers)"
   ]
  },
  {
   "cell_type": "code",
   "execution_count": null,
   "metadata": {},
   "outputs": [],
   "source": []
  }
 ],
 "metadata": {
  "kernelspec": {
   "display_name": "Python 3",
   "language": "python",
   "name": "python3"
  },
  "language_info": {
   "codemirror_mode": {
    "name": "ipython",
    "version": 3
   },
   "file_extension": ".py",
   "mimetype": "text/x-python",
   "name": "python",
   "nbconvert_exporter": "python",
   "pygments_lexer": "ipython3",
   "version": "3.8.8"
  }
 },
 "nbformat": 4,
 "nbformat_minor": 2
}
